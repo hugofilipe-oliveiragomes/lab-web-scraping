{
 "cells": [
  {
   "cell_type": "markdown",
   "id": "7e7a1ab8-2599-417d-9a65-25ef07f3a786",
   "metadata": {
    "id": "7e7a1ab8-2599-417d-9a65-25ef07f3a786"
   },
   "source": [
    "# Lab | Web Scraping"
   ]
  },
  {
   "cell_type": "markdown",
   "id": "ce8882fc-4815-4567-92fa-b4816358ba7d",
   "metadata": {
    "id": "ce8882fc-4815-4567-92fa-b4816358ba7d"
   },
   "source": [
    "Welcome to the IMDb Web Scraping Adventure Lab!\n",
    "\n",
    "**Objective**\n",
    "\n",
    "In this lab, we will embark on a mission to unearth valuable insights from the vast sea of data available on IMDb, one of the largest online databases of movie, TV, and celebrity information. As budding data scientists and business analysts, you have been tasked to scrape a specific subset of data from IMDb to assist film production companies in understanding the landscape of highly-rated movies in a defined time period. Your insights will potentially influence the making of the next netflix movie!\n",
    "\n",
    "**Background**\n",
    "\n",
    "In a world where data has become the new currency, businesses are leveraging big data to make informed decisions that drive success and profitability. The entertainment industry, being no exception, utilizes data analytics to comprehend market trends, audience preferences, and the performance of films based on various parameters such as director, genre, stars involved, etc. IMDb stands as a goldmine of such data, offering intricate details of almost every movie ever made.\n",
    "\n",
    "**Task**\n",
    "\n",
    "Your task is to create a Python script using `BeautifulSoup` and `pandas` to scrape IMDb movie data based on user ratings and release dates. This script should be able to filter movies with ratings above a certain threshold and within a specified date range.\n",
    "\n",
    "**Expected Outcome**\n",
    "\n",
    "- A function named `scrape_imdb` that takes four parameters: `title_type`,`user_rating`, `start_date`, and `end_date`.\n",
    "- The function should return a DataFrame with the following columns:\n",
    "  - **Movie Nr**: The number representing the movie’s position in the list.\n",
    "  - **Title**: The title of the movie.\n",
    "  - **Year**: The year the movie was released.\n",
    "  - **Rating**: The IMDb rating of the movie.\n",
    "  - **Runtime (min)**: The duration of the movie in minutes.\n",
    "  - **Genre**: The genre of the movie.\n",
    "  - **Description**: A brief description of the movie.\n",
    "  - **Director**: The director of the movie.\n",
    "  - **Stars**: The main stars of the movie.\n",
    "  - **Votes**: The number of votes the movie received.\n",
    "  - **Gross ($M)**: The gross earnings of the movie in millions of USD.\n",
    "\n",
    "You will execute this script to scrape data for movies with the Title Type `Feature Film` that have a user rating of `7.5 and above` and were released between `January 1, 1990, and December 31, 1992`.\n",
    "\n",
    "Remember to experiment with different title types, dates and ratings to ensure your code is versatile and can handle various searches effectively!\n",
    "\n",
    "**Resources**\n",
    "\n",
    "- [Beautiful Soup Documentation](https://www.crummy.com/software/BeautifulSoup/bs4/doc/)\n",
    "- [Pandas Documentation](https://pandas.pydata.org/pandas-docs/stable/index.html)\n",
    "- [IMDb Advanced Search](https://www.imdb.com/search/title/)\n"
   ]
  },
  {
   "cell_type": "markdown",
   "id": "3519921d-5890-445b-9a33-934ed8ee378c",
   "metadata": {
    "id": "3519921d-5890-445b-9a33-934ed8ee378c"
   },
   "source": [
    "**Hint**\n",
    "\n",
    "Your first mission is to familiarize yourself with the IMDb advanced search page. Head over to [IMDb advanced search](https://www.imdb.com/search/title/) and input the following parameters, keeping all other fields to their default values or blank:\n",
    "\n",
    "- **Title Type**: Feature film\n",
    "- **Release date**: From 1990 to 1992 (Note: You don't need to specify the day and month)\n",
    "- **User Rating**: 7.5 to -\n",
    "\n",
    "Upon searching, you'll land on a page showcasing a list of movies, each displaying vital details such as the title, release year, and crew information. Your task is to scrape this treasure trove of data.\n",
    "\n",
    "Carefully examine the resulting URL and construct your own URL to include all the necessary parameters for filtering the movies."
   ]
  },
  {
   "cell_type": "markdown",
   "id": "25a83a0d-a742-49f6-985e-e27887cbf922",
   "metadata": {
    "id": "25a83a0d-a742-49f6-985e-e27887cbf922"
   },
   "source": [
    "\n",
    "---\n",
    "\n",
    "**Best of luck! Immerse yourself in the world of movies and may the data be with you!**"
   ]
  },
  {
   "cell_type": "markdown",
   "id": "7b75cf0d-9afa-4eec-a9e2-befeac68b2a0",
   "metadata": {
    "id": "7b75cf0d-9afa-4eec-a9e2-befeac68b2a0"
   },
   "source": [
    "**Important note**:\n",
    "\n",
    "In the fast-changing online world, websites often get updates and make changes. When you try this lab, the IMDb website might be different from what we expect.\n",
    "\n",
    "If you run into problems because of these changes, like new rules or things that stop you from getting data, don't worry! Instead, get creative.\n",
    "\n",
    "You can choose another website that interests you and is good for scraping data. Websites like Wikipedia or The New York Times are good options. The main goal is still the same: get useful data and learn how to scrape it from a website that you find interesting. It's a chance to practice your web scraping skills and explore a source of information you like."
   ]
  },
  {
   "cell_type": "code",
   "execution_count": 17,
   "id": "e77835dd-b301-48e1-8bca-d49d4c00008b",
   "metadata": {},
   "outputs": [],
   "source": [
    "import requests\n",
    "from bs4 import BeautifulSoup\n",
    "import pandas as pd"
   ]
  },
  {
   "cell_type": "code",
   "execution_count": 18,
   "id": "39dd80a5-682a-4bdc-b4df-611bbc0a7237",
   "metadata": {},
   "outputs": [
    {
     "data": {
      "text/plain": [
       "<Response [200]>"
      ]
     },
     "execution_count": 18,
     "metadata": {},
     "output_type": "execute_result"
    }
   ],
   "source": [
    "url = \"https://www.imdb.com/list/ls002206094/\"\n",
    "response = requests.get(url)\n",
    "soup = BeautifulSoup(response.content, \"html.parser\")\n",
    "response"
   ]
  },
  {
   "cell_type": "code",
   "execution_count": 31,
   "id": "c7b100a5-69fe-48f4-b584-b09fbaaeb07a",
   "metadata": {},
   "outputs": [],
   "source": [
    "def scrape_imdb_list(url):\n",
    "    movies_list = []\n",
    "\n",
    "    movies = soup.find_all('div', class_='lister-item mode-detail')\n",
    "    for i, movie in enumerate(movies):\n",
    "        title = movie.find('h3').find('a').text\n",
    "        year = movie.find('span', class_='lister-item-year').text.strip('()').split('–')[0]\n",
    "        rating = movie.find('span', class_='ipl-rating-star__rating').text if movie.find('span', class_='ipl-rating-star__rating') else 'N/A'\n",
    "        runtime = movie.find('span', class_='runtime').text if movie.find('span', class_='runtime') else 'N/A'\n",
    "        genre = movie.find('span', class_='genre').text.strip() if movie.find('span', class_='genre') else 'N/A'\n",
    "        description = movie.find_all('p', class_='text-muted')[-1].text.strip()\n",
    "        director_and_stars = movie.find('p', class_='').text.strip().split('|')\n",
    "        director = 'N/A'\n",
    "        stars = 'N/A'\n",
    "        if director_and_stars:\n",
    "            director = director_and_stars[0].replace('Director:', '').replace('Directors:', '').strip()\n",
    "            if len(director_and_stars) > 1:\n",
    "                stars = director_and_stars[1].replace('Stars:', '').strip()\n",
    "        votes = 'N/A'\n",
    "        gross = 'N/A'\n",
    "        nv_elements = movie.find_all('span', attrs={'name': 'nv'})\n",
    "        if nv_elements:\n",
    "            votes = nv_elements[0].text if len(nv_elements) > 0 else 'N/A'\n",
    "            gross = nv_elements[1].text if len(nv_elements) > 1 else 'N/A'\n",
    "\n",
    "        movies_list.append([i+1, title, year, rating, runtime, genre, description, director, stars, votes, gross])\n",
    "\n",
    "    columns = ['Movie Nr', 'Title', 'Year', 'Rating', 'Runtime (min)', 'Genre', 'Description', 'Director', 'Stars', 'Votes', 'Gross ($M)']\n",
    "    df = pd.DataFrame(movies_list, columns=columns)\n",
    "\n",
    "    return df"
   ]
  },
  {
   "cell_type": "code",
   "execution_count": 32,
   "id": "d8c49a20-7d74-4135-a13a-32f7f6a887f2",
   "metadata": {},
   "outputs": [
    {
     "name": "stdout",
     "output_type": "stream",
     "text": [
      "   Movie Nr                       Title  Year Rating Runtime (min)  \\\n",
      "0         1                      Matrix  1999    8.7       136 min   \n",
      "1         2   Seven - 7 Pecados Mortais  1995    8.6       127 min   \n",
      "2         3  Os Condenados de Shawshank  1994    9.3       142 min   \n",
      "3         4     Os Suspeitos do Costume  1995    8.5       106 min   \n",
      "4         5                Pulp Fiction  1994    8.9       154 min   \n",
      "\n",
      "                   Genre                            Description  \\\n",
      "0         Action, Sci-Fi  Votes:\\n2,047,129\\n| Gross:\\n$171.48M   \n",
      "1  Crime, Drama, Mystery  Votes:\\n1,793,483\\n| Gross:\\n$100.13M   \n",
      "2                  Drama   Votes:\\n2,880,595\\n| Gross:\\n$28.34M   \n",
      "3  Crime, Drama, Mystery   Votes:\\n1,143,026\\n| Gross:\\n$23.34M   \n",
      "4           Crime, Drama  Votes:\\n2,213,184\\n| Gross:\\n$107.93M   \n",
      "\n",
      "                                            Director Stars      Votes  \\\n",
      "0  When a beautiful stranger leads computer hacke...   N/A  2,047,129   \n",
      "1  Two detectives, a rookie and a veteran, hunt a...   N/A  1,793,483   \n",
      "2  Over the course of several years, two convicts...   N/A  2,880,595   \n",
      "3  The sole survivor of a pier shoot-out tells th...   N/A  1,143,026   \n",
      "4  The lives of two mob hitmen, a boxer, a gangst...   N/A  2,213,184   \n",
      "\n",
      "  Gross ($M)  \n",
      "0   $171.48M  \n",
      "1   $100.13M  \n",
      "2    $28.34M  \n",
      "3    $23.34M  \n",
      "4   $107.93M  \n"
     ]
    }
   ],
   "source": [
    "df = scrape_imdb_list(url)\n",
    "print(df.head())"
   ]
  },
  {
   "cell_type": "markdown",
   "id": "9ab1217a-df9d-4a2b-a32c-2c5f1eecd52a",
   "metadata": {
    "id": "9ab1217a-df9d-4a2b-a32c-2c5f1eecd52a"
   },
   "source": [
    "## BONUS\n",
    "\n",
    "The search results span multiple pages, housing a total of 631 movies in our example with each page displaying 50 movies at most. To scrape data seamlessly from all pages, you'll need to dive deep into the structure of the URLs generated with each \"Next\" click.\n",
    "\n",
    "Take a close look at the following URLs:\n",
    "- First page:\n",
    "  ```\n",
    "  https://www.imdb.com/search/title/?title_type=feature&release_date=1990-01-01,1992-12-31&user_rating=7.5,\n",
    "  ```\n",
    "- Second page:\n",
    "  ```\n",
    "  https://www.imdb.com/search/title/?title_type=feature&release_date=1990-01-01,1992-12-31&user_rating=7.5,&start=51&ref_=adv_nxt\n",
    "  ```\n",
    "- Third page:\n",
    "  ```\n",
    "  https://www.imdb.com/search/title/?title_type=feature&release_date=1990-01-01,1992-12-31&user_rating=7.5,&start=101&ref_=adv_nxt\n",
    "  ```\n",
    "\n",
    "You should notice a pattern. There is a `start` parameter incrementing by 50 with each page, paired with a constant `ref_` parameter holding the value \"adv_nxt\".\n",
    "\n",
    "Modify your script so it's capable of iterating over all available pages to fetch data on all the 631 movies (631 is the total number of movies in the proposed example)."
   ]
  },
  {
   "cell_type": "code",
   "execution_count": null,
   "id": "21ac4fc0-a12b-4a00-9266-2020166f0dea",
   "metadata": {
    "id": "21ac4fc0-a12b-4a00-9266-2020166f0dea"
   },
   "outputs": [],
   "source": [
    "# Your solution goes here"
   ]
  }
 ],
 "metadata": {
  "colab": {
   "provenance": []
  },
  "kernelspec": {
   "display_name": "Python 3 (ipykernel)",
   "language": "python",
   "name": "python3"
  },
  "language_info": {
   "codemirror_mode": {
    "name": "ipython",
    "version": 3
   },
   "file_extension": ".py",
   "mimetype": "text/x-python",
   "name": "python",
   "nbconvert_exporter": "python",
   "pygments_lexer": "ipython3",
   "version": "3.11.7"
  }
 },
 "nbformat": 4,
 "nbformat_minor": 5
}
